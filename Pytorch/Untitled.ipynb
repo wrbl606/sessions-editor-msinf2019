{
 "cells": [
  {
   "cell_type": "code",
   "execution_count": 234,
   "metadata": {},
   "outputs": [],
   "source": [
    "import torch\n",
    "import torch.nn as nn\n",
    "import torch.functional as F"
   ]
  },
  {
   "cell_type": "code",
   "execution_count": null,
   "metadata": {},
   "outputs": [],
   "source": []
  },
  {
   "cell_type": "code",
   "execution_count": 235,
   "metadata": {},
   "outputs": [
    {
     "data": {
      "text/plain": [
       "'\\n77\\n63\\n1399.2022092666462\\n1141.454433875422\\n5.098938019445958\\n0.02664452415889013\\n15.058951381832024\\n1.8832796447711142\\n31907.70371130618\\n2006.7752980301982\\nMarcin\\n\\n199\\n290\\n3050.8474576271187\\n4453.004622496148\\n7.825804287618923\\n0.006988225731965805\\n14.108660590920106\\n1.1760921635070218\\n37948.75770738181\\n1328.5310107306827\\nBartek\\n'"
      ]
     },
     "execution_count": 235,
     "metadata": {},
     "output_type": "execute_result"
    }
   ],
   "source": [
    "'''\n",
    "77\n",
    "63\n",
    "1399.2022092666462\n",
    "1141.454433875422\n",
    "5.098938019445958\n",
    "0.02664452415889013\n",
    "15.058951381832024\n",
    "1.8832796447711142\n",
    "31907.70371130618\n",
    "2006.7752980301982\n",
    "Marcin\n",
    "\n",
    "199\n",
    "290\n",
    "3050.8474576271187\n",
    "4453.004622496148\n",
    "7.825804287618923\n",
    "0.006988225731965805\n",
    "14.108660590920106\n",
    "1.1760921635070218\n",
    "37948.75770738181\n",
    "1328.5310107306827\n",
    "Bartek\n",
    "'''"
   ]
  },
  {
   "cell_type": "code",
   "execution_count": 236,
   "metadata": {},
   "outputs": [],
   "source": [
    "class Network(nn.Module):\n",
    "    def __init__(self):\n",
    "        super(Network, self).__init__()\n",
    "        self.fc1 = nn.Linear(in_features=10, out_features=10, bias=True)\n",
    "        self.fc2 = nn.Linear(in_features=10, out_features=10, bias=True)\n",
    "        self.out = nn.Linear(in_features=10, out_features = 4, bias=True)\n",
    "        \n",
    "    def forward(self, t):\n",
    "        #1st layer\n",
    "        t = self.fc1(t)\n",
    "        #2nd layer\n",
    "        t = self.fc2(t)\n",
    "        #output layer\n",
    "        t = self.out(t)\n",
    "        \n",
    "        return t"
   ]
  },
  {
   "cell_type": "code",
   "execution_count": 237,
   "metadata": {
    "scrolled": true
   },
   "outputs": [
    {
     "name": "stdout",
     "output_type": "stream",
     "text": [
      "tensor([-1973.5437, -1684.8969,  1971.0435,  4173.2573],\n",
      "       grad_fn=<AddBackward0>)\n"
     ]
    }
   ],
   "source": [
    "marcin = torch.tensor([77, 63, 1399.2022092666462, 1141.454433875422, 5.098938019445958, 0.02664452415889013, 15.058951381832024, 1.8832796447711142, 31907.70371130618, 2006.7752980301982])\n",
    "network=Network()\n",
    "output = network(marcin)\n",
    "print(output)"
   ]
  },
  {
   "cell_type": "code",
   "execution_count": 238,
   "metadata": {},
   "outputs": [],
   "source": [
    "network.zero_grad()\n",
    "#output.backward(torch.randn(1, 4))"
   ]
  },
  {
   "cell_type": "code",
   "execution_count": 239,
   "metadata": {},
   "outputs": [
    {
     "name": "stdout",
     "output_type": "stream",
     "text": [
      "tensor([1., 0., 0., 0.])\n",
      "tensor(7009697.5000, grad_fn=<MseLossBackward>)\n"
     ]
    }
   ],
   "source": [
    "target = torch.tensor([1., 0, 0, 0])\n",
    "print(target)\n",
    "criterion = nn.MSELoss()\n",
    "\n",
    "loss = criterion(output, target)\n",
    "print(loss)\n",
    "retain_graph=True"
   ]
  },
  {
   "cell_type": "code",
   "execution_count": 240,
   "metadata": {
    "scrolled": true
   },
   "outputs": [
    {
     "name": "stdout",
     "output_type": "stream",
     "text": [
      "fc1.bias.grad before backward\n",
      "None\n",
      "fc1.bias.grad after backward\n",
      "tensor([-232.6610, -177.5616,  188.8595, -771.8677, -516.2960, -482.7094,\n",
      "        -291.3752,   48.0264,  370.6012,  -77.4006])\n"
     ]
    }
   ],
   "source": [
    "net.zero_grad()     # zeroes the gradient buffers of all parameters\n",
    "\n",
    "print('fc1.bias.grad before backward')\n",
    "print(network.fc1.bias.grad)\n",
    "\n",
    "loss.backward()\n",
    "\n",
    "print('fc1.bias.grad after backward')\n",
    "print(network.fc1.bias.grad)"
   ]
  },
  {
   "cell_type": "code",
   "execution_count": 241,
   "metadata": {},
   "outputs": [
    {
     "data": {
      "text/plain": [
       "tensor([ 0.9917, -0.4610,  2.0100, -0.5791,  0.3101, -1.5584,  0.2548, -1.4310,\n",
       "         0.6763, -0.7614])"
      ]
     },
     "execution_count": 241,
     "metadata": {},
     "output_type": "execute_result"
    }
   ],
   "source": [
    "weight_matrix = torch.randn(10)\n",
    "weight_matrix"
   ]
  },
  {
   "cell_type": "code",
   "execution_count": null,
   "metadata": {},
   "outputs": [],
   "source": []
  },
  {
   "cell_type": "code",
   "execution_count": 242,
   "metadata": {},
   "outputs": [
    {
     "data": {
      "text/plain": [
       "Parameter containing:\n",
       "tensor([[-0.2195, -0.1896, -0.2759,  0.0248,  0.0210, -0.3044, -0.0660,  0.2692,\n",
       "          0.0787,  0.2383],\n",
       "        [ 0.2075, -0.2050, -0.2800, -0.1502, -0.0662,  0.1297, -0.0074,  0.0032,\n",
       "         -0.0211, -0.2649],\n",
       "        [-0.2199,  0.1409,  0.2518, -0.2291, -0.0385, -0.2414,  0.0864,  0.2444,\n",
       "         -0.3075,  0.2506],\n",
       "        [-0.2457,  0.2811, -0.0656, -0.0464, -0.0109, -0.1694,  0.0350,  0.1079,\n",
       "         -0.1484,  0.2092],\n",
       "        [-0.0099,  0.2479, -0.2232, -0.0566, -0.1631, -0.1010,  0.2711,  0.3062,\n",
       "          0.1290, -0.1580],\n",
       "        [-0.2662,  0.2456,  0.0395,  0.3140, -0.1381,  0.2263, -0.1938, -0.2007,\n",
       "          0.2873, -0.2983],\n",
       "        [-0.2751,  0.1945, -0.1042,  0.1424,  0.2322,  0.2511,  0.0484,  0.1009,\n",
       "          0.0994,  0.0686],\n",
       "        [-0.2440,  0.2157,  0.1581, -0.2903,  0.1565, -0.0459,  0.2166,  0.2880,\n",
       "          0.1784,  0.0509],\n",
       "        [ 0.0218,  0.2297, -0.0904,  0.1244, -0.0564,  0.0089,  0.1349, -0.0928,\n",
       "         -0.0710,  0.0758],\n",
       "        [ 0.3129,  0.0059,  0.1902, -0.1980,  0.0034,  0.1972, -0.0831, -0.1241,\n",
       "          0.2115, -0.1831]], requires_grad=True)"
      ]
     },
     "execution_count": 242,
     "metadata": {},
     "output_type": "execute_result"
    }
   ],
   "source": [
    "fc1.weight"
   ]
  },
  {
   "cell_type": "code",
   "execution_count": null,
   "metadata": {},
   "outputs": [],
   "source": []
  }
 ],
 "metadata": {
  "kernelspec": {
   "display_name": "Python 3",
   "language": "python",
   "name": "python3"
  },
  "language_info": {
   "codemirror_mode": {
    "name": "ipython",
    "version": 3
   },
   "file_extension": ".py",
   "mimetype": "text/x-python",
   "name": "python",
   "nbconvert_exporter": "python",
   "pygments_lexer": "ipython3",
   "version": "3.7.3"
  }
 },
 "nbformat": 4,
 "nbformat_minor": 2
}
