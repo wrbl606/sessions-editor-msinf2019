{
 "cells": [
  {
   "cell_type": "code",
   "execution_count": 35,
   "metadata": {},
   "outputs": [],
   "source": [
    "import torch\n",
    "import torch.nn as nn\n",
    "import torch.nn.functional as F\n",
    "import torch.optim as optim"
   ]
  },
  {
   "cell_type": "code",
   "execution_count": 36,
   "metadata": {},
   "outputs": [
    {
     "name": "stdout",
     "output_type": "stream",
     "text": [
      "Liczba plików:  125.0\n"
     ]
    }
   ],
   "source": [
    "import glob\n",
    "path = \"./../dist/char*.txt\"\n",
    "contents=[]\n",
    "for filename in glob.glob(path):\n",
    "    with open(filename, 'r') as f:\n",
    "        for line in f:\n",
    "            contents.append(line.strip('\\n'))\n",
    "print('Liczba plików: ', len(contents)/15)\n",
    "i=0\n",
    "while (i<len(contents)-1):\n",
    "    contents[i]=float(contents[i])\n",
    "    i+=1\n",
    "    if ((i+1)%15==0):\n",
    "        i=i+1"
   ]
  },
  {
   "cell_type": "code",
   "execution_count": 37,
   "metadata": {},
   "outputs": [],
   "source": [
    "device = torch.device(\"cuda:0\" if torch.cuda.is_available() else \"cpu\")"
   ]
  },
  {
   "cell_type": "code",
   "execution_count": 38,
   "metadata": {},
   "outputs": [
    {
     "name": "stdout",
     "output_type": "stream",
     "text": [
      "x= tensor([0., 1., 2., 3.]) y= tensor([[0.],\n",
      "        [1.],\n",
      "        [2.],\n",
      "        [3.]])\n",
      "tensor([0.0000, 0.3333, 0.6667, 1.0000]) tensor([[0.0000],\n",
      "        [0.3333],\n",
      "        [0.6667],\n",
      "        [1.0000]])\n"
     ]
    }
   ],
   "source": [
    "x = torch.tensor([0., 1., 2., 3.])\n",
    "y = x.view(-1, 1)\n",
    "print('x=',x,'y=',y)\n",
    "def normalize(x):\n",
    "    min_v = torch.min(x)\n",
    "    range_v = torch.max(x) - min_v\n",
    "    if range_v > 0:\n",
    "        return (x - min_v) / range_v\n",
    "    else:\n",
    "        return torch.zeros(x.size())\n",
    "print(normalize(x), normalize(y))"
   ]
  },
  {
   "cell_type": "code",
   "execution_count": 39,
   "metadata": {},
   "outputs": [],
   "source": [
    "from random import randint as r"
   ]
  },
  {
   "cell_type": "code",
   "execution_count": 40,
   "metadata": {},
   "outputs": [],
   "source": [
    "# while True:\n",
    "#     a=r(0, (len(contents)/15))\n",
    "#     print(a)\n",
    "#     print(torch.tensor(contents[(a*15):(a*15+14)]))"
   ]
  },
  {
   "cell_type": "code",
   "execution_count": 41,
   "metadata": {},
   "outputs": [],
   "source": [
    "import time"
   ]
  },
  {
   "cell_type": "code",
   "execution_count": 42,
   "metadata": {},
   "outputs": [],
   "source": [
    "class Network(nn.Module):\n",
    "    def __init__(self):\n",
    "        super(Network, self).__init__()\n",
    "        self.fc1 = nn.Linear(in_features=14, out_features=10)\n",
    "        self.fc2 = nn.Linear(in_features=10, out_features=4)\n",
    "        #self.out = nn.Linear(in_features=14, out_features = 4, bias=True)\n",
    "        \n",
    "    def forward(self, t):\n",
    "        #1st layer\n",
    "        t = self.fc1(t)\n",
    "        #2nd layer\n",
    "        t = self.fc2(t)\n",
    "\n",
    "        #t = F.softmax(t, -1)\n",
    "        \n",
    "        return t"
   ]
  },
  {
   "cell_type": "code",
   "execution_count": 43,
   "metadata": {},
   "outputs": [],
   "source": [
    "net=Network()\n",
    "params=list(net.parameters())\n",
    "criterion = nn.MSELoss()\n",
    "#net.zero_grad()\n",
    "optimizer = optim.SGD(net.parameters(), lr = 0.000000000005)#lr=0.00000000001)\n",
    "lossDuplicationCounter = 0\n",
    "prevloss=5\n",
    "loss = 4\n",
    "i = 0\n",
    "good = 0"
   ]
  },
  {
   "cell_type": "code",
   "execution_count": 44,
   "metadata": {},
   "outputs": [
    {
     "name": "stdout",
     "output_type": "stream",
     "text": [
      "\n",
      "\n",
      "iteration:  0 \n",
      "Loss:  0.3571 \n",
      "Output:  [ 0.2164, -0.1138, -0.3188, -0.1980] \n",
      "Target:  [0., 1., 0., 0.]\n",
      "\n",
      "\n",
      "iteration:  1000 \n",
      "Loss:  0.3604 \n",
      "Output:  [ 0.2174, -0.1201, -0.3163, -0.1994] \n",
      "Target:  [0., 1., 0., 0.]\n",
      "\n",
      "\n",
      "iteration:  2000 \n",
      "Loss:  0.3961 \n",
      "Output:  [ 0.2171, -0.1025, -0.3225, -0.1928] \n",
      "Target:  [0., 0., 0., 1.]\n",
      "\n",
      "\n",
      "iteration:  3000 \n",
      "Loss:  0.4614 \n",
      "Output:  [ 0.2147, -0.1008, -0.3233, -0.1951] \n",
      "Target:  [0., 0., 1., 0.]\n",
      "\n",
      "\n",
      "iteration:  4000 \n",
      "Loss:  0.3580 \n",
      "Output:  [ 0.2166, -0.1156, -0.3181, -0.1985] \n",
      "Target:  [0., 1., 0., 0.]\n",
      "\n",
      "\n",
      "iteration:  5000 \n",
      "Loss:  0.4609 \n",
      "Output:  [ 0.2172, -0.1026, -0.3224, -0.1928] \n",
      "Target:  [0., 0., 1., 0.]\n",
      "\n",
      "\n",
      "iteration:  6000 \n",
      "Loss:  0.3967 \n",
      "Output:  [ 0.2159, -0.1017, -0.3229, -0.1940] \n",
      "Target:  [0., 0., 0., 1.]\n",
      "\n",
      "\n",
      "iteration:  7000 \n",
      "Loss:  0.4614 \n",
      "Output:  [ 0.2140, -0.1004, -0.3233, -0.1959] \n",
      "Target:  [0., 0., 1., 0.]\n",
      "\n",
      "\n",
      "iteration:  8000 \n",
      "Loss:  0.3612 \n",
      "Output:  [ 0.2234, -0.1221, -0.3137, -0.1932] \n",
      "Target:  [0., 1., 0., 0.]\n",
      "\n",
      "\n",
      "iteration:  9000 \n",
      "Loss:  0.3598 \n",
      "Output:  [ 0.2170, -0.1187, -0.3179, -0.1989] \n",
      "Target:  [0., 1., 0., 0.]\n",
      "\n",
      "\n",
      "iteration:  10000 \n",
      "Loss:  0.3590 \n",
      "Output:  [ 0.2163, -0.1175, -0.3167, -0.2001] \n",
      "Target:  [0., 1., 0., 0.]\n",
      "\n",
      "\n",
      "iteration:  11000 \n",
      "Loss:  0.3972 \n",
      "Output:  [ 0.2149, -0.1009, -0.3232, -0.1950] \n",
      "Target:  [0., 0., 0., 1.]\n",
      "\n",
      "\n",
      "iteration:  12000 \n",
      "Loss:  0.3580 \n",
      "Output:  [ 0.2167, -0.1155, -0.3183, -0.1983] \n",
      "Target:  [0., 1., 0., 0.]\n",
      "\n",
      "\n",
      "iteration:  13000 \n",
      "Loss:  0.4608 \n",
      "Output:  [ 0.2177, -0.1029, -0.3223, -0.1921] \n",
      "Target:  [0., 0., 1., 0.]\n",
      "\n",
      "\n",
      "iteration:  14000 \n",
      "Loss:  0.1922 \n",
      "Output:  [ 0.2149, -0.1006, -0.3232, -0.1950] \n",
      "Target:  [1., 0., 0., 0.]\n",
      "\n",
      "\n",
      "iteration:  15000 \n",
      "Loss:  0.4614 \n",
      "Output:  [ 0.2138, -0.1005, -0.3233, -0.1962] \n",
      "Target:  [0., 0., 1., 0.]\n",
      "\n",
      "\n",
      "iteration:  16000 \n",
      "Loss:  0.4614 \n",
      "Output:  [ 0.2144, -0.1007, -0.3234, -0.1955] \n",
      "Target:  [0., 0., 1., 0.]\n",
      "\n",
      "\n",
      "iteration:  17000 \n",
      "Loss:  0.4609 \n",
      "Output:  [ 0.2172, -0.1026, -0.3224, -0.1928] \n",
      "Target:  [0., 0., 1., 0.]\n",
      "\n",
      "\n",
      "iteration:  18000 \n",
      "Loss:  0.4614 \n",
      "Output:  [ 0.2147, -0.1008, -0.3233, -0.1951] \n",
      "Target:  [0., 0., 1., 0.]\n",
      "\n",
      "\n",
      "iteration:  19000 \n",
      "Loss:  0.1915 \n",
      "Output:  [ 0.2164, -0.1016, -0.3225, -0.1935] \n",
      "Target:  [1., 0., 0., 0.]\n",
      "\n",
      "\n",
      "iteration:  20000 \n",
      "Loss:  0.3963 \n",
      "Output:  [ 0.2168, -0.1021, -0.3225, -0.1931] \n",
      "Target:  [0., 0., 0., 1.]\n",
      "\n",
      "\n",
      "iteration:  21000 \n",
      "Loss:  0.3965 \n",
      "Output:  [ 0.2164, -0.1021, -0.3227, -0.1935] \n",
      "Target:  [0., 0., 0., 1.]\n",
      "\n",
      "\n",
      "iteration:  22000 \n",
      "Loss:  0.4613 \n",
      "Output:  [ 0.2149, -0.1012, -0.3232, -0.1951] \n",
      "Target:  [0., 0., 1., 0.]\n"
     ]
    },
    {
     "ename": "KeyboardInterrupt",
     "evalue": "",
     "output_type": "error",
     "traceback": [
      "\u001b[1;31m---------------------------------------------------------------------------\u001b[0m",
      "\u001b[1;31mKeyboardInterrupt\u001b[0m                         Traceback (most recent call last)",
      "\u001b[1;32m<ipython-input-44-6a9e83e8ae01>\u001b[0m in \u001b[0;36m<module>\u001b[1;34m\u001b[0m\n\u001b[0;32m     31\u001b[0m     \u001b[1;31m#loss.backward(retain_graph=True)\u001b[0m\u001b[1;33m\u001b[0m\u001b[1;33m\u001b[0m\u001b[1;33m\u001b[0m\u001b[0m\n\u001b[0;32m     32\u001b[0m     \u001b[0mloss\u001b[0m\u001b[1;33m.\u001b[0m\u001b[0mbackward\u001b[0m\u001b[1;33m(\u001b[0m\u001b[0mretain_graph\u001b[0m\u001b[1;33m=\u001b[0m\u001b[1;32mTrue\u001b[0m\u001b[1;33m)\u001b[0m\u001b[1;33m\u001b[0m\u001b[1;33m\u001b[0m\u001b[0m\n\u001b[1;32m---> 33\u001b[1;33m     \u001b[0mloss\u001b[0m\u001b[1;33m.\u001b[0m\u001b[0mbackward\u001b[0m\u001b[1;33m(\u001b[0m\u001b[0mretain_graph\u001b[0m\u001b[1;33m=\u001b[0m\u001b[1;32mTrue\u001b[0m\u001b[1;33m)\u001b[0m\u001b[1;33m\u001b[0m\u001b[1;33m\u001b[0m\u001b[0m\n\u001b[0m\u001b[0;32m     34\u001b[0m     \u001b[0mloss\u001b[0m\u001b[1;33m.\u001b[0m\u001b[0mbackward\u001b[0m\u001b[1;33m(\u001b[0m\u001b[1;33m)\u001b[0m\u001b[1;33m\u001b[0m\u001b[1;33m\u001b[0m\u001b[0m\n\u001b[0;32m     35\u001b[0m     \u001b[0moptimizer\u001b[0m\u001b[1;33m.\u001b[0m\u001b[0mstep\u001b[0m\u001b[1;33m(\u001b[0m\u001b[1;33m)\u001b[0m   \u001b[1;31m# Does the update\u001b[0m\u001b[1;33m\u001b[0m\u001b[1;33m\u001b[0m\u001b[0m\n",
      "\u001b[1;32mD:\\Anaconda3\\lib\\site-packages\\torch\\tensor.py\u001b[0m in \u001b[0;36mbackward\u001b[1;34m(self, gradient, retain_graph, create_graph)\u001b[0m\n\u001b[0;32m    105\u001b[0m                 \u001b[0mproducts\u001b[0m\u001b[1;33m.\u001b[0m \u001b[0mDefaults\u001b[0m \u001b[0mto\u001b[0m\u001b[0;31m \u001b[0m\u001b[0;31m`\u001b[0m\u001b[0;31m`\u001b[0m\u001b[1;32mFalse\u001b[0m\u001b[0;31m`\u001b[0m\u001b[0;31m`\u001b[0m\u001b[1;33m.\u001b[0m\u001b[1;33m\u001b[0m\u001b[1;33m\u001b[0m\u001b[0m\n\u001b[0;32m    106\u001b[0m         \"\"\"\n\u001b[1;32m--> 107\u001b[1;33m         \u001b[0mtorch\u001b[0m\u001b[1;33m.\u001b[0m\u001b[0mautograd\u001b[0m\u001b[1;33m.\u001b[0m\u001b[0mbackward\u001b[0m\u001b[1;33m(\u001b[0m\u001b[0mself\u001b[0m\u001b[1;33m,\u001b[0m \u001b[0mgradient\u001b[0m\u001b[1;33m,\u001b[0m \u001b[0mretain_graph\u001b[0m\u001b[1;33m,\u001b[0m \u001b[0mcreate_graph\u001b[0m\u001b[1;33m)\u001b[0m\u001b[1;33m\u001b[0m\u001b[1;33m\u001b[0m\u001b[0m\n\u001b[0m\u001b[0;32m    108\u001b[0m \u001b[1;33m\u001b[0m\u001b[0m\n\u001b[0;32m    109\u001b[0m     \u001b[1;32mdef\u001b[0m \u001b[0mregister_hook\u001b[0m\u001b[1;33m(\u001b[0m\u001b[0mself\u001b[0m\u001b[1;33m,\u001b[0m \u001b[0mhook\u001b[0m\u001b[1;33m)\u001b[0m\u001b[1;33m:\u001b[0m\u001b[1;33m\u001b[0m\u001b[1;33m\u001b[0m\u001b[0m\n",
      "\u001b[1;32mD:\\Anaconda3\\lib\\site-packages\\torch\\autograd\\__init__.py\u001b[0m in \u001b[0;36mbackward\u001b[1;34m(tensors, grad_tensors, retain_graph, create_graph, grad_variables)\u001b[0m\n\u001b[0;32m     91\u001b[0m     Variable._execution_engine.run_backward(\n\u001b[0;32m     92\u001b[0m         \u001b[0mtensors\u001b[0m\u001b[1;33m,\u001b[0m \u001b[0mgrad_tensors\u001b[0m\u001b[1;33m,\u001b[0m \u001b[0mretain_graph\u001b[0m\u001b[1;33m,\u001b[0m \u001b[0mcreate_graph\u001b[0m\u001b[1;33m,\u001b[0m\u001b[1;33m\u001b[0m\u001b[1;33m\u001b[0m\u001b[0m\n\u001b[1;32m---> 93\u001b[1;33m         allow_unreachable=True)  # allow_unreachable flag\n\u001b[0m\u001b[0;32m     94\u001b[0m \u001b[1;33m\u001b[0m\u001b[0m\n\u001b[0;32m     95\u001b[0m \u001b[1;33m\u001b[0m\u001b[0m\n",
      "\u001b[1;31mKeyboardInterrupt\u001b[0m: "
     ]
    }
   ],
   "source": [
    "begin=time.time()\n",
    "while (good < 10) and lossDuplicationCounter<=30:\n",
    "    if float(prevloss)<0.1: \n",
    "        good+=1\n",
    "    else:\n",
    "        good = 0\n",
    "        \n",
    "    a=r(0, (len(contents)/15-1))\n",
    "    chars = normalize(torch.tensor(contents[(a*15):(a*15+14)]))\n",
    "    out = net(chars)\n",
    "    start=a*15\n",
    "    #print(contents[start+14])\n",
    "    if (contents[start+14]=='Marcin'):\n",
    "        target = torch.tensor([1., 0., 0., 0.])\n",
    "    elif (contents[start+14]=='Bartek'):\n",
    "        target = torch.tensor([0., 1., 0., 0.])\n",
    "    elif (contents[start+14]=='Maciek'):\n",
    "        target = torch.tensor([0., 0., 1., 0.,])\n",
    "    elif (contents[start+14]=='Artur'):\n",
    "        target = torch.tensor([0., 0., 0., 1.,])\n",
    "    loss = criterion(out, target)\n",
    "    #print('loss', float(loss))\n",
    "    if prevloss == loss:\n",
    "        lossDuplicationCounter +=1\n",
    "        #print('loss duplicate #', lossDuplicationCounter)\n",
    "    else:\n",
    "        lossDuplicationCounter = 0\n",
    "    prevloss = loss\n",
    "    optimizer.zero_grad()\n",
    "    net.zero_grad()\n",
    "    #loss.backward(retain_graph=True)\n",
    "    loss.backward(retain_graph=True)\n",
    "    loss.backward(retain_graph=True)\n",
    "    loss.backward()\n",
    "    optimizer.step()   # Does the update\n",
    "       # zero the gradient buffers\n",
    "    if i%1000==0:\n",
    "        print(\"\\n\\niteration: \", i, \n",
    "              \"\\nLoss: \", ((str(loss)).strip('tensor()')).strip(', grad_fn=<MseLossBackward>) '), \n",
    "              '\\nOutput: ', ((str(out)).strip('tensor(')).strip(', grad_fn=<AddBackward0>)').strip(', grad_fn=<Softmax'),\n",
    "              '\\nTarget: ', str(target).strip('tensor(').strip(')'))\n",
    "    i+=1\n",
    "print(i, \"Learning time: \\n\\t\", time.time()-begin)\n",
    "torch.cuda.empty_cache()"
   ]
  },
  {
   "cell_type": "code",
   "execution_count": null,
   "metadata": {},
   "outputs": [],
   "source": [
    "F.softmax"
   ]
  },
  {
   "cell_type": "code",
   "execution_count": null,
   "metadata": {},
   "outputs": [],
   "source": [
    "print(prevloss)"
   ]
  },
  {
   "cell_type": "code",
   "execution_count": null,
   "metadata": {},
   "outputs": [],
   "source": [
    "print(\"\\n\\niteration: \", i, \n",
    "              \"\\nLoss: \", ((str(loss)).strip('tensor()')).strip(', grad_fn=<MseLossBackward>) '), \n",
    "              '\\nOutput: ', ((str(out)).strip('tensor(')).strip(', grad_fn=<AddBackward0>)').strip(', grad_fn=<Softmax'),\n",
    "              '\\nTarget: ', str(target).strip('tensor(').strip(')'))"
   ]
  },
  {
   "cell_type": "code",
   "execution_count": null,
   "metadata": {
    "scrolled": true
   },
   "outputs": [],
   "source": [
    "# print\n",
    "# i=0\n",
    "# for filename in glob.glob(path):\n",
    "#     #a=r(0, (len(contents)/15-1))\n",
    "#     chars = torch.tensor(contents[(i*15):(i*15+14)])\n",
    "#     #print(str(net(chars)).strip(\", grad_fn=<AddBackward0>)\").strip(\"tensor(\"), \"\\t : \",contents[i*15+14])\n",
    "#     print(((str(net(chars))).strip('tensor(')).strip(', grad_fn=<AddBackward0>)').strip(', grad_fn=<Softmax'), \" : \", contents[i*15+14])\n",
    "#     i=i+1"
   ]
  },
  {
   "cell_type": "code",
   "execution_count": null,
   "metadata": {},
   "outputs": [],
   "source": [
    "# Print model's state_dict\n",
    "print(\"Model's state_dict:\")\n",
    "for param_tensor in net.state_dict():\n",
    "    print(param_tensor, \"\\t\", net.state_dict()[param_tensor].size())\n",
    "\n",
    "# Print optimizer's state_dict\n",
    "print(\"Optimizer's state_dict:\")\n",
    "for var_name in optimizer.state_dict():\n",
    "    print(var_name, \"\\t\", optimizer.state_dict()[var_name])"
   ]
  },
  {
   "cell_type": "code",
   "execution_count": null,
   "metadata": {},
   "outputs": [],
   "source": [
    "torch.save(net, \"net.pt\")\n"
   ]
  },
  {
   "cell_type": "code",
   "execution_count": null,
   "metadata": {
    "scrolled": true
   },
   "outputs": [],
   "source": [
    "haba = torch.load(\"net.pt\")\n",
    "haba.eval()\n"
   ]
  },
  {
   "cell_type": "code",
   "execution_count": null,
   "metadata": {},
   "outputs": [],
   "source": [
    "\n",
    "\n",
    "i=0\n",
    "ilezg=0\n",
    "for filename in glob.glob(path):\n",
    "    tt=torch.tensor(contents[(a*15):(a*15+14)])\n",
    "    who = contents[i*15+14]\n",
    "    predykcja = haba(tt)\n",
    "    print(str(predykcja).strip('tensor(').strip(', grad_fn=<AddBackward0>)').strip(', grad_fn=<SoftmaxBackward>)')) \n",
    "    predlist = predykcja.tolist().index(max(predykcja.tolist()))\n",
    "    predykcjaOsoba=''\n",
    "    if predlist == 0:\n",
    "        predykcjaOsoba='Marcin'\n",
    "    elif predlist == 1:\n",
    "        predykcjaOsoba='Bartek'\n",
    "    elif predlist == 2:\n",
    "        predykcjaOsoba='Maciek'\n",
    "    elif predlist == 3:\n",
    "        predykcjaOsoba='Artur'\n",
    "    else:\n",
    "        print('ERROR!!!')\n",
    "    print(i, who, ' : \\n', str(tt).strip('tensor(').strip(')').strip(', grad_fn=<Softmax')), #'\\n', str(predykcja).strip('tensor(').strip(', grad_fn=<AddBackward0>)').strip(', grad_fn=<SoftmaxBackward>)'))\n",
    "    i+=1\n",
    "    if who == predykcjaOsoba:\n",
    "        ilezg+=1\n",
    "print(ilezg/i*100)\n"
   ]
  },
  {
   "cell_type": "markdown",
   "metadata": {},
   "source": []
  }
 ],
 "metadata": {
  "kernelspec": {
   "display_name": "Python 3",
   "language": "python",
   "name": "python3"
  },
  "language_info": {
   "codemirror_mode": {
    "name": "ipython",
    "version": 3
   },
   "file_extension": ".py",
   "mimetype": "text/x-python",
   "name": "python",
   "nbconvert_exporter": "python",
   "pygments_lexer": "ipython3",
   "version": "3.6.8"
  }
 },
 "nbformat": 4,
 "nbformat_minor": 2
}
