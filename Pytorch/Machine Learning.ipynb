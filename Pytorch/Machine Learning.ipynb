{
 "cells": [
  {
   "cell_type": "code",
   "execution_count": null,
   "metadata": {},
   "outputs": [],
   "source": [
    "import torch\n",
    "import torch.nn as nn\n",
    "import torch.nn.functional as F\n",
    "import torch.optim as optim"
   ]
  },
  {
   "cell_type": "code",
   "execution_count": null,
   "metadata": {},
   "outputs": [],
   "source": [
    "import glob\n",
    "path = \"./../dist/char*.txt\"\n",
    "contents=[]\n",
    "for filename in glob.glob(path):\n",
    "    with open(filename, 'r') as f:\n",
    "        for line in f:\n",
    "            contents.append(line.strip('\\n'))\n",
    "print('Liczba plików: ', len(contents)/15)\n",
    "i=0\n",
    "while (i<len(contents)-1):\n",
    "    contents[i]=float(contents[i])\n",
    "    i+=1\n",
    "    if ((i+1)%15==0):\n",
    "        i=i+1"
   ]
  },
  {
   "cell_type": "code",
   "execution_count": null,
   "metadata": {},
   "outputs": [],
   "source": [
    "device = torch.device(\"cuda:0\" if torch.cuda.is_available() else \"cpu\")"
   ]
  },
  {
   "cell_type": "code",
   "execution_count": null,
   "metadata": {},
   "outputs": [],
   "source": [
    "def normalize(x):\n",
    "    min_v = torch.min(x)\n",
    "    range_v = torch.max(x) - min_v\n",
    "    if range_v > 0:\n",
    "        return (x - min_v) / range_v\n",
    "    else:\n",
    "        return torch.zeros(x.size())"
   ]
  },
  {
   "cell_type": "code",
   "execution_count": null,
   "metadata": {},
   "outputs": [],
   "source": [
    "from random import randint as r"
   ]
  },
  {
   "cell_type": "code",
   "execution_count": null,
   "metadata": {},
   "outputs": [],
   "source": [
    "# while True:\n",
    "#     a=r(0, (len(contents)/15))\n",
    "#     print(a)\n",
    "#     print(torch.tensor(contents[(a*15):(a*15+14)]))"
   ]
  },
  {
   "cell_type": "code",
   "execution_count": null,
   "metadata": {},
   "outputs": [],
   "source": [
    "import time"
   ]
  },
  {
   "cell_type": "code",
   "execution_count": null,
   "metadata": {},
   "outputs": [],
   "source": [
    "class Network(nn.Module):\n",
    "    def __init__(self):\n",
    "        super(Network, self).__init__()\n",
    "        self.fc1 = nn.Linear(in_features=14, out_features=10)\n",
    "        self.fc2 = nn.Linear(in_features=10, out_features=4)\n",
    "        #self.out = nn.Linear(in_features=14, out_features = 4, bias=True)\n",
    "        \n",
    "    def forward(self, t):\n",
    "        #1st layer\n",
    "        t = self.fc1(t)\n",
    "        #2nd layer\n",
    "        t = self.fc2(t)\n",
    "\n",
    "        #t = F.softmax(t, -1)\n",
    "        \n",
    "        return t"
   ]
  },
  {
   "cell_type": "code",
   "execution_count": null,
   "metadata": {},
   "outputs": [],
   "source": [
    "net=Network()\n",
    "params=list(net.parameters())\n",
    "criterion = nn.MSELoss()\n",
    "#net.zero_grad()\n",
    "optimizer = optim.SGD(net.parameters(), lr = 0.0001)#lr=0.00000000001)\n",
    "lossDuplicationCounter = 0\n",
    "prevloss=5\n",
    "loss = 4\n",
    "i = 0\n",
    "good = 0"
   ]
  },
  {
   "cell_type": "code",
   "execution_count": null,
   "metadata": {},
   "outputs": [],
   "source": [
    "begin=time.time()\n",
    "while (good < 10) and lossDuplicationCounter<=30:\n",
    "    if float(prevloss)<0.1: \n",
    "        good+=1\n",
    "    else:\n",
    "        good = 0\n",
    "        \n",
    "    a=r(0, (len(contents)/15-1))\n",
    "    chars = normalize(torch.tensor(contents[(a*15):(a*15+14)]))\n",
    "    out = net(chars)\n",
    "    start=a*15\n",
    "    #print(contents[start+14])\n",
    "    if (contents[start+14]=='Marcin'):\n",
    "        target = torch.tensor([1., 0., 0., 0.])\n",
    "    elif (contents[start+14]=='Bartek'):\n",
    "        target = torch.tensor([0., 1., 0., 0.])\n",
    "    elif (contents[start+14]=='Maciek'):\n",
    "        target = torch.tensor([0., 0., 1., 0.,])\n",
    "    elif (contents[start+14]=='Artur'):\n",
    "        target = torch.tensor([0., 0., 0., 1.,])\n",
    "    loss = criterion(out, target)\n",
    "    #print('loss', float(loss))\n",
    "    if prevloss == loss:\n",
    "        lossDuplicationCounter +=1\n",
    "        #print('loss duplicate #', lossDuplicationCounter)\n",
    "    else:\n",
    "        lossDuplicationCounter = 0\n",
    "    prevloss = loss\n",
    "    optimizer.zero_grad()\n",
    "    net.zero_grad()\n",
    "    #loss.backward(retain_graph=True)\n",
    "    loss.backward(retain_graph=True)\n",
    "    loss.backward(retain_graph=True)\n",
    "    loss.backward()\n",
    "    optimizer.step()   # Does the update\n",
    "       # zero the gradient buffers\n",
    "    if i%1000==0:\n",
    "        print(\"\\n\\niteration: \", i, \n",
    "              \"\\nLoss: \", ((str(loss)).strip('tensor()')).strip(', grad_fn=<MseLossBackward>) '), \n",
    "              '\\nOutput: ', ((str(out)).strip('tensor(')).strip(', grad_fn=<AddBackward0>)').strip(', grad_fn=<Softmax'),\n",
    "              '\\nTarget: ', str(target).strip('tensor(').strip(')'))\n",
    "    i+=1\n",
    "print(i, \"Learning time: \\n\\t\", time.time()-begin)\n",
    "torch.cuda.empty_cache()"
   ]
  },
  {
   "cell_type": "code",
   "execution_count": null,
   "metadata": {},
   "outputs": [],
   "source": [
    "print(\"\\n\\niteration: \", i, \n",
    "              \"\\nLoss: \", ((str(loss)).strip('tensor()')).strip(', grad_fn=<MseLossBackward>) '), \n",
    "              '\\nOutput: ', ((str(out)).strip('tensor(')).strip(', grad_fn=<AddBackward0>)').strip(', grad_fn=<Softmax'),\n",
    "              '\\nTarget: ', str(target).strip('tensor(').strip(')'))"
   ]
  },
  {
   "cell_type": "code",
   "execution_count": null,
   "metadata": {
    "scrolled": true
   },
   "outputs": [],
   "source": [
    "# print\n",
    "# i=0\n",
    "# for filename in glob.glob(path):\n",
    "#     #a=r(0, (len(contents)/15-1))\n",
    "#     chars = torch.tensor(contents[(i*15):(i*15+14)])\n",
    "#     #print(str(net(chars)).strip(\", grad_fn=<AddBackward0>)\").strip(\"tensor(\"), \"\\t : \",contents[i*15+14])\n",
    "#     print(((str(net(chars))).strip('tensor(')).strip(', grad_fn=<AddBackward0>)').strip(', grad_fn=<Softmax'), \" : \", contents[i*15+14])\n",
    "#     i=i+1"
   ]
  },
  {
   "cell_type": "code",
   "execution_count": null,
   "metadata": {},
   "outputs": [],
   "source": [
    "# Print model's state_dict\n",
    "print(\"Model's state_dict:\")\n",
    "for param_tensor in net.state_dict():\n",
    "    print(param_tensor, \"\\t\", net.state_dict()[param_tensor].size())\n",
    "\n",
    "# Print optimizer's state_dict\n",
    "print(\"Optimizer's state_dict:\")\n",
    "for var_name in optimizer.state_dict():\n",
    "    print(var_name, \"\\t\", optimizer.state_dict()[var_name])"
   ]
  },
  {
   "cell_type": "code",
   "execution_count": null,
   "metadata": {},
   "outputs": [],
   "source": [
    "torch.save(net, \"net.pt\")\n"
   ]
  },
  {
   "cell_type": "code",
   "execution_count": null,
   "metadata": {
    "scrolled": true
   },
   "outputs": [],
   "source": [
    "haba = torch.load(\"net.pt\")\n",
    "haba.eval()\n"
   ]
  },
  {
   "cell_type": "code",
   "execution_count": null,
   "metadata": {},
   "outputs": [],
   "source": [
    "i=0\n",
    "ilezg=0\n",
    "for filename in glob.glob(path):\n",
    "    tt=normalize(torch.tensor(contents[(a*15):(a*15+14)]))\n",
    "    #tt=F.softmax(normalize(torch.tensor(contents[(a*15):(a*15+14)])), -1)\n",
    "    who = contents[i*15+14]\n",
    "    predykcja = haba(tt)\n",
    "    print(str(predykcja).strip('tensor(').strip(', grad_fn=<AddBackward0>)').strip(', grad_fn=<SoftmaxBackward>)')) \n",
    "    predlist = predykcja.tolist().index(max(predykcja.tolist()))\n",
    "    predykcjaOsoba=''\n",
    "    if predlist == 0:\n",
    "        predykcjaOsoba='Marcin'\n",
    "    elif predlist == 1:\n",
    "        predykcjaOsoba='Bartek'\n",
    "    elif predlist == 2:\n",
    "        predykcjaOsoba='Maciek'\n",
    "    elif predlist == 3:\n",
    "        predykcjaOsoba='Artur'\n",
    "    else:\n",
    "        print('ERROR!!!')\n",
    "    print(i, who, ' : \\n', str(tt).strip('tensor(').strip(')').strip(', grad_fn=<Softmax')), #'\\n', str(predykcja).strip('tensor(').strip(', grad_fn=<AddBackward0>)').strip(', grad_fn=<SoftmaxBackward>)'))\n",
    "    i+=1\n",
    "    if who == predykcjaOsoba:\n",
    "        ilezg+=1\n",
    "print(ilezg/i*100)"
   ]
  },
  {
   "cell_type": "markdown",
   "metadata": {},
   "source": []
  }
 ],
 "metadata": {
  "kernelspec": {
   "display_name": "Python 3",
   "language": "python",
   "name": "python3"
  },
  "language_info": {
   "codemirror_mode": {
    "name": "ipython",
    "version": 3
   },
   "file_extension": ".py",
   "mimetype": "text/x-python",
   "name": "python",
   "nbconvert_exporter": "python",
   "pygments_lexer": "ipython3",
   "version": "3.6.8"
  }
 },
 "nbformat": 4,
 "nbformat_minor": 2
}
