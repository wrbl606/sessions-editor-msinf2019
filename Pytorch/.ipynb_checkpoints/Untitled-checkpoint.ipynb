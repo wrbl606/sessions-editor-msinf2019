{
 "cells": [
  {
   "cell_type": "code",
   "execution_count": 1,
   "metadata": {},
   "outputs": [],
   "source": [
    "import torch\n",
    "import torch.nn as nn"
   ]
  },
  {
   "cell_type": "code",
   "execution_count": 8,
   "metadata": {},
   "outputs": [
    {
     "data": {
      "text/plain": [
       "'\\n77\\n63\\n1399.2022092666462\\n1141.454433875422\\n5.098938019445958\\n0.02664452415889013\\n15.058951381832024\\n1.8832796447711142\\n31907.70371130618\\n2006.7752980301982\\nMarcin'"
      ]
     },
     "execution_count": 8,
     "metadata": {},
     "output_type": "execute_result"
    }
   ],
   "source": [
    "'''\n",
    "77\n",
    "63\n",
    "1399.2022092666462\n",
    "1141.454433875422\n",
    "5.098938019445958\n",
    "0.02664452415889013\n",
    "15.058951381832024\n",
    "1.8832796447711142\n",
    "31907.70371130618\n",
    "2006.7752980301982\n",
    "Marcin\n",
    "\n",
    "199\n",
    "290\n",
    "3050.8474576271187\n",
    "4453.004622496148\n",
    "7.825804287618923\n",
    "0.006988225731965805\n",
    "14.108660590920106\n",
    "1.1760921635070218\n",
    "37948.75770738181\n",
    "1328.5310107306827\n",
    "Bartek\n",
    "'''"
   ]
  },
  {
   "cell_type": "code",
   "execution_count": null,
   "metadata": {},
   "outputs": [],
   "source": [
    "n_in, n_h, n_h2, n_out, batch_size = 10, 5, 5, 1, 1"
   ]
  }
 ],
 "metadata": {
  "kernelspec": {
   "display_name": "Python 3",
   "language": "python",
   "name": "python3"
  },
  "language_info": {
   "codemirror_mode": {
    "name": "ipython",
    "version": 3
   },
   "file_extension": ".py",
   "mimetype": "text/x-python",
   "name": "python",
   "nbconvert_exporter": "python",
   "pygments_lexer": "ipython3",
   "version": "3.7.3"
  }
 },
 "nbformat": 4,
 "nbformat_minor": 2
}
